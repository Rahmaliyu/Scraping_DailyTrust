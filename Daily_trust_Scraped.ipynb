{
 "cells": [
  {
   "attachments": {},
   "cell_type": "markdown",
   "metadata": {},
   "source": [
    "### Scraping  a Page in Daily Trust"
   ]
  },
  {
   "cell_type": "code",
   "execution_count": 1,
   "metadata": {},
   "outputs": [
    {
     "name": "stdout",
     "output_type": "stream",
     "text": [
      "\n",
      "Nigerians have continued to lament the hardship caused by the scarcity of naira notes, urging the federal government to comply with last Friday’s judgement of the Supreme Court.\n",
      "The apex court had ordered the circulation of the old naira notes alongside the new ones until December 31.\n",
      "A seven-member panel of justices, presided over by Justice Inyang Okoro, in a unanimous judgement on Friday, had described as unconstitutional, President Muhammadu Buhari’s directive to the CBN for the redesign and withdrawal of old notes of N200, N500 and N1,000, without consultation with the states, the Federal Executive Council, the National Council of State and other stakeholders.\n",
      "The Supreme Court had also held that no reasonable notice was given before the implementation of the policy as provided under the CBN Act.\n",
      "\n",
      "\n",
      "\n",
      "\n",
      "Gateway Airport: Giving a boost to agro-allied, cargo exports\n",
      "NIGERIA DAILY: How Alleged Millitary Brutality Is Leading To Death And Hospitalisation In Katsina\n",
      "\n",
      "Findings by the Daily Trust showed that Nigerians, especially traders and transporters, were rejecting the old N500 and N1,000 notes, which the CBN had said ceased to be legal tender on February 10.\n",
      "But, a director at the apex bank told one of our correspondents that a new directive would be issued to the commercial banks today.\n",
      "“The judgement was given on Friday, and the CBN is not a party to the suit, but it is getting all the legal opinions on what next to do.\n",
      "“The Deposit Money Banks (DMBs) will get a clearer direction on Monday on how to comply,” the director said.\n",
      "\n",
      "\n",
      "\n",
      "He said the directive would be issued after a high-level consultation currently ongoing on the way forward.\n",
      "He said, “Remember the president is fully involved in this policy and he is abreast of its implementation, so everything will be done with the understanding and blessing of the president.”\n",
      "Efforts to get the acting director, Corporate Communications Department of the CBN, Isa Abdulmumin, yielded no results as he did not respond to calls and a text message sent to him by our reporter.\n",
      " \n",
      "Presidency, AGF mum \n",
      "When contacted for comment on when the presidency would comply with the Supreme Court’s judgment, presidential spokesman Femi Adesina directed our reporter to contact the Attorney-General of the Federation and Minister of Justice, Abubakar Malami.\n",
      "\n",
      "\n",
      "\n",
      "But Malami and his media aide, Umar Gwandu, neither answered calls to their mobile phone lines nor replied to text messages sent to them.\n",
      "However, a senior lawyer in the Office of the AGF, who pleaded anonymity, assured that the judgment would be obeyed.\n",
      "“There is no way the honourable attorney-general will say the government will not comply with the order of the Supreme Court; it is not going to happen.\n",
      "“You have to wait till Monday, I am sure he is going to react,” he said.\n",
      " \n",
      "Traders demand govt’s compliance\n",
      "A cross-section of traders spoken to by this paper urged the government to comply with the ruling of the apex court on the matter.\n",
      "A businessman at Kwari market in Kano, Adamu Hamza, told Daily Trust, “Honestly, while we are suffering due to this policy, we cannot just go ahead and start collecting the old notes and at last, we come back looking for where to take them to.\n",
      "“Even if you go around, you will discover that the majority of businessmen here are still not accepting it.\n",
      "“If the president or the CBN today comes out and says we should go ahead, that’s fine, already we are suffering and we need ease.\n",
      "“I come to my shop every day from morning till late evening hours before I close. I have at least five shop attendants helping me. I will tell you this, because of the scarcity of naira notes, most of these days we spend the day without eating anything.”\n",
      "Another trader in Kano, Yakubu Muhammad, said he and other businessmen in the city are awaiting the positions of the CBN and the Presidency.\n",
      "He said, “We can’t risk it. We are seeing it every day, the judiciary is no longer being respected at all.”\n",
      "In Kaduna, traders, transporters, and others yesterday refused to accept the old naira notes for fear of losing their money.\n",
      "Customers who took the old naira notes to some markets were not attended to.\n",
      "Also, commuters with old notes were stranded as bus and taxi drivers did not accept them.\n",
      "Alhaji Mohammed Yunusa, who sells veils and ladies’ underwear, said: “The old notes are no longer acceptable because I collect them, banks will reject them.”\n",
      "Also, Mrs. Halima Musa, who sells foodstuffs at Central Market, Kaduna, said she would not accept the old notes because she suffered trying to return the ones she collected earlier.\n",
      "“Old notes are no longer acceptable. If there is a court judgment, let the president address Nigerians because court judges are not bank managers that will accept or reject the old notes. They should allow the CBN to speak on the issue as no bank is accepting old notes any longer,” she said.\n",
      "Petrol stations, supermarkets, traders and commercial transporters across major cities in southern Nigeria are not accepting the old N500 and N1,000 bank notes, despite the ruling of the Supreme Court.\n",
      "Daily Trust observed that residents and business communities in Lagos and Rivers states were yet to comply with the ruling of the Supreme Court as they declined to accept the old naira notes.\n",
      "Our reporter learnt that filling stations in Oyigbo, Eleme and Port Harcourt were not accepting the old naira notes.\n",
      "Many supermarkets, retail and drug stores preferred transacting their businesses using point of sales and bank transfers instead of accepting the old naira notes.\n",
      "A fuel attendant in Port Harcourt, who pleaded anonymity, said he was directed not to take old naira notes.\n",
      "“We were directed not to take old naira notes from customers. We were told that CBN has not given any directives to banks and other business concerns that the old naira notes remain legal tender. We prefer using POS or transfer to cash,” he said.\n",
      "A retail store owner in Ikeja, Kelechukwu Anthony, said the business communities were awaiting further directives from the CBN.\n",
      "“There is no clarity on the judgement yet. I don’t have any old naira notes for now and I am not accepting them. The judgement was given on Friday so we would watch the reaction of the banks on Monday to know what to do next,” he said.\n",
      "Anthony said there is a scarcity of both the new and old notes which has hampered business transactions.\n",
      "Our reporter also learnt that commercial transporters were not accepting the old naira notes.\n",
      "However, some taxis and commercial cyclists in Abuja were accepting the old naira notes yesterday.\n",
      "A trader at the Kubwa Village Market, Miss Fola Ogundipe, said: “Even though, the presidency and the Central Bank of Nigeria are yet to react to the Supreme Court judgement, I have been collecting the old notes since Friday, without fear because I know that when Bola Ahmed Tinubu finally takes over, he will make a pronouncement to remove fear from people’s minds.” People are still scared of accepting it.”\n",
      "A motorcyclist, Tijjani Abdul, who operates in Kubwa and Dutse, said: “I am yet to start collecting because President Muhammadu Buhari has not given that order. If I collect the old notes, how do I spend them ? Filling stations are not collecting them.”\n",
      "A civil servant, Elijah Adetokunbo, said: “I just spent an old N1000 note, but more than three shops refused to accept it.”\n",
      " \n",
      "Order apex bank now, Ondo gov urges Buhari \n",
      "Ondo State Governor Rotimi Akeredolu, yesterday, urged the federal government to obey the Supreme Court’s judgement on the validity of the old naira notes.\n",
      "In a statement, Akeredolu said the president should immediately direct the CBN governor, Godwin Emefiele, to revert to the status quo on the N1000, N500 and N200 old notes.\n",
      "“We enjoin the federal government to obey the ruling of the Supreme Court immediately, as there is no other alternative open to it.\n",
      "“As we enjoin the officials of the federal government who may be directly involved in putting into effect the spirit and the letter of the Supreme Court ruling to do so immediately, the Ondo State government will not hesitate to proceed against persons and institutions whose activities impede its ability to discharge statutory obligations to the people,” he said.\n",
      " \n",
      "From Abiodun Alade, Adelanwa Bamgboye (Lagos), Victor Edozie (Port Harcourt), Salim Umar Ibrahim (Kano), Maryam Ahmadu-Suka (Kaduna), Tosin Tope (Akure), & John C. Azu, Sunday M. Ogwu, Muideen Olaniyi & Seun Adeuyi (Abuja)\n",
      "\n",
      "\n",
      "\n",
      "\n",
      "\n",
      "\n",
      "\n"
     ]
    }
   ],
   "source": [
    "import requests\n",
    "from bs4 import BeautifulSoup\n",
    "\n",
    "website = 'https://dailytrust.com/old-naira-notes-nigerians-await-decision-lament-hardships/'\n",
    "response =requests.get(website)\n",
    "webpage = response.content\n",
    "\n",
    "\n",
    "soup = BeautifulSoup(webpage, 'html.parser')\n",
    "news = soup.find('article', {'class':\"body article__body\"})\n",
    "print(news.get_text())\n"
   ]
  }
 ],
 "metadata": {
  "kernelspec": {
   "display_name": "Arewa",
   "language": "python",
   "name": "python3"
  },
  "language_info": {
   "codemirror_mode": {
    "name": "ipython",
    "version": 3
   },
   "file_extension": ".py",
   "mimetype": "text/x-python",
   "name": "python",
   "nbconvert_exporter": "python",
   "pygments_lexer": "ipython3",
   "version": "3.10.9"
  },
  "orig_nbformat": 4,
  "vscode": {
   "interpreter": {
    "hash": "b5903ae92095f300eb6ebc2adfecb187aba358bf664b7bfc9a36f30538c75737"
   }
  }
 },
 "nbformat": 4,
 "nbformat_minor": 2
}
