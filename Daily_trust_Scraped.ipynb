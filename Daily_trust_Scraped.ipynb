{
 "cells": [
  {
   "attachments": {},
   "cell_type": "markdown",
   "metadata": {},
   "source": [
    "### Scraping  a Page in Daily Trust"
   ]
  },
  {
   "cell_type": "code",
   "execution_count": null,
   "metadata": {},
   "outputs": [],
   "source": [
    "import requests\n",
    "from bs4 import BeautifulSoup\n",
    "\n",
    "website = 'https://dailytrust.com/old-naira-notes-nigerians-await-decision-lament-hardships/'\n",
    "response =requests.get(website)\n",
    "webpage = response.content\n",
    "\n",
    "soup = BeautifulSoup(webpage, 'html.parser')\n",
    "news = soup.find('article', {'class':\"body article__body\"})\n",
    "print(news.get_text())\n"
   ]
  }
 ],
 "metadata": {
  "kernelspec": {
   "display_name": "ArewaDS",
   "language": "python",
   "name": "python3"
  },
  "language_info": {
   "name": "python",
   "version": "3.10.9"
  },
  "orig_nbformat": 4,
  "vscode": {
   "interpreter": {
    "hash": "70474970a143700744fd95cb5146c78a729df9662c726c4b2793fd9cfb5786fb"
   }
  }
 },
 "nbformat": 4,
 "nbformat_minor": 2
}
